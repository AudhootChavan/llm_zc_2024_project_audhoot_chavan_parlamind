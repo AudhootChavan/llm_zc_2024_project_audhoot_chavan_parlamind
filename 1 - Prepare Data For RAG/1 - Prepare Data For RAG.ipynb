{
 "cells": [
  {
   "cell_type": "markdown",
   "id": "5c35cdbb",
   "metadata": {},
   "source": [
    "In this notebook we are going to download youtube transcripts for a list of videos using the youtube transcript api.<br>\n",
    "The sentences within the transcripts will have a timestamp associated with them. We will add a few special characters after each sentence to help with parsing later. <br>\n",
    "The downloaded raw data also needs to be chunked meaningfully to use in our RAG. LLM can be used for this however I did not have much success creating meaningful chunks as the videos I'm working with are long and are a discussion of sorts. So with the current token limit and the time limit for this project submission, the best solution I found was to manually chunk the text. <br>\n",
    "Once the texts are manually chunked, the final step in data prep is to create a dataframe to store each chunk as a record with its associalted video name, video link, start time which can be used later in the RAG application."
   ]
  },
  {
   "cell_type": "code",
   "execution_count": 1,
   "id": "d5a91fc3",
   "metadata": {},
   "outputs": [],
   "source": [
    "# Import libraries\n",
    "import os\n",
    "import pandas as pd \n",
    "from youtube_transcript_api import YouTubeTranscriptApi\n",
    "# Remove warnings(optional)\n",
    "import warnings\n",
    "warnings.filterwarnings('ignore')"
   ]
  },
  {
   "cell_type": "markdown",
   "id": "9bb9b4e8",
   "metadata": {},
   "source": [
    "### Part A - Extract raw data"
   ]
  },
  {
   "cell_type": "code",
   "execution_count": 2,
   "id": "fa696b67",
   "metadata": {},
   "outputs": [
    {
     "data": {
      "text/html": [
       "<div>\n",
       "<style scoped>\n",
       "    .dataframe tbody tr th:only-of-type {\n",
       "        vertical-align: middle;\n",
       "    }\n",
       "\n",
       "    .dataframe tbody tr th {\n",
       "        vertical-align: top;\n",
       "    }\n",
       "\n",
       "    .dataframe thead th {\n",
       "        text-align: right;\n",
       "    }\n",
       "</style>\n",
       "<table border=\"1\" class=\"dataframe\">\n",
       "  <thead>\n",
       "    <tr style=\"text-align: right;\">\n",
       "      <th></th>\n",
       "      <th>Video Series</th>\n",
       "      <th>Video Name</th>\n",
       "      <th>Video Link</th>\n",
       "    </tr>\n",
       "  </thead>\n",
       "  <tbody>\n",
       "    <tr>\n",
       "      <th>0</th>\n",
       "      <td>FM Nirmala Sitharamans Reply On Union Budget</td>\n",
       "      <td>FM_Nirmala_Sitharamans_reply_on_Union_Budget_f...</td>\n",
       "      <td>https://www.youtube.com/watch?v=kYHWCD7FZgQ</td>\n",
       "    </tr>\n",
       "    <tr>\n",
       "      <th>1</th>\n",
       "      <td>LS Question Hour Budget Session</td>\n",
       "      <td>LS_Question Hour_Budget Session 2024_01 August...</td>\n",
       "      <td>https://www.youtube.com/watch?v=JLKf3WlykVU&amp;li...</td>\n",
       "    </tr>\n",
       "    <tr>\n",
       "      <th>2</th>\n",
       "      <td>LS Question Hour Budget Session</td>\n",
       "      <td>LS_Question Hour_Budget Session 2024_02 August...</td>\n",
       "      <td>https://www.youtube.com/watch?v=Re-I0SntUfs&amp;li...</td>\n",
       "    </tr>\n",
       "    <tr>\n",
       "      <th>3</th>\n",
       "      <td>LS Question Hour Budget Session</td>\n",
       "      <td>LS_Question Hour_Budget Session 2024_05 August...</td>\n",
       "      <td>https://www.youtube.com/watch?v=oeUCexzMd3E</td>\n",
       "    </tr>\n",
       "    <tr>\n",
       "      <th>4</th>\n",
       "      <td>LS Question Hour Budget Session</td>\n",
       "      <td>LS_Question Hour_Budget Session 2024_06 August...</td>\n",
       "      <td>https://www.youtube.com/watch?v=0BOY9fx7xZo&amp;li...</td>\n",
       "    </tr>\n",
       "  </tbody>\n",
       "</table>\n",
       "</div>"
      ],
      "text/plain": [
       "                                   Video Series  \\\n",
       "0  FM Nirmala Sitharamans Reply On Union Budget   \n",
       "1               LS Question Hour Budget Session   \n",
       "2               LS Question Hour Budget Session   \n",
       "3               LS Question Hour Budget Session   \n",
       "4               LS Question Hour Budget Session   \n",
       "\n",
       "                                          Video Name  \\\n",
       "0  FM_Nirmala_Sitharamans_reply_on_Union_Budget_f...   \n",
       "1  LS_Question Hour_Budget Session 2024_01 August...   \n",
       "2  LS_Question Hour_Budget Session 2024_02 August...   \n",
       "3  LS_Question Hour_Budget Session 2024_05 August...   \n",
       "4  LS_Question Hour_Budget Session 2024_06 August...   \n",
       "\n",
       "                                          Video Link  \n",
       "0        https://www.youtube.com/watch?v=kYHWCD7FZgQ  \n",
       "1  https://www.youtube.com/watch?v=JLKf3WlykVU&li...  \n",
       "2  https://www.youtube.com/watch?v=Re-I0SntUfs&li...  \n",
       "3        https://www.youtube.com/watch?v=oeUCexzMd3E  \n",
       "4  https://www.youtube.com/watch?v=0BOY9fx7xZo&li...  "
      ]
     },
     "execution_count": 2,
     "metadata": {},
     "output_type": "execute_result"
    }
   ],
   "source": [
    "# # Read list of videos to get the transcripts for\n",
    "# video_links = pd.read_excel('video_data_to_extract.xlsx')\n",
    "# video_links.head()"
   ]
  },
  {
   "cell_type": "code",
   "execution_count": 3,
   "id": "f3b06d5d",
   "metadata": {},
   "outputs": [
    {
     "name": "stdout",
     "output_type": "stream",
     "text": [
      "FM_Nirmala_Sitharamans_reply_on_Union_Budget_for_202425_30 July 2024\n",
      "LS_Question Hour_Budget Session 2024_01 August 2024\n",
      "LS_Question Hour_Budget Session 2024_02 August 2024\n",
      "LS_Question Hour_Budget Session 2024_05 August 2024\n",
      "LS_Question Hour_Budget Session 2024_06 August 2024\n",
      "LS_Question Hour_Budget Session 2024_07 August 2024\n",
      "LS_Question Hour_Budget Session 2024_08 August 2024\n",
      "LS_Question Hour_Budget Session 2024_09 August 2024\n",
      "LS_Question Hour_Budget Session 2024_22 July 2024\n",
      "LS_Question Hour_Budget Session 2024_25 July 2024\n",
      "LS_Question Hour_Budget Session 2024_26 July 2024\n",
      "LS_Question Hour_Budget Session 2024_29 July 2024\n",
      "LS_Question Hour_Budget Session 2024_30 July 2024\n",
      "LS_Question Hour_Budget Session 2024_31 July 2024\n",
      "Rahul_Gandhi_Discussion_on_Union_Budget_for_202425_29 July 2024\n"
     ]
    }
   ],
   "source": [
    "# # Iterate through each video\n",
    "# for video_series,video_name, video_link in zip(video_links['Video Series'],video_links['Video Name'], video_links['Video Link']):\n",
    "#     print(video_name)\n",
    "#     # Create variable to save the transcripts\n",
    "#     transcript_string = ''\n",
    "#     # Add the video series, video name and video link in the first 3 lines\n",
    "#     # Add | after every line to help with parsing later\n",
    "#     transcript_string += video_series + '\\n'\n",
    "#     transcript_string += video_name + '\\n'\n",
    "#     transcript_string += video_link + ' | '\n",
    "#     # Retrieve the transcripts\n",
    "#     transcript_list = YouTubeTranscriptApi.list_transcripts(video_link.split('v=')[1].strip())\n",
    "#     # Iterate through each transcript \n",
    "#     for transcript in transcript_list:\n",
    "#         # Iterate through each line - In english translated text - Record the timestamp in seconds and text spoken\n",
    "#         for line in transcript.translate('en').fetch():\n",
    "#             transcript_string += str(line['start']) + '\\n'\n",
    "#             transcript_string += line['text'] + ' | '\n",
    "#     # Save transcripts to text files\n",
    "#     with open(os.path.join(os.getcwd(), 'data_dumps', video_name + '.txt'), 'w', encoding='utf-8') as file:\n",
    "#         file.write(transcript_string)  "
   ]
  },
  {
   "cell_type": "markdown",
   "id": "64e60275",
   "metadata": {},
   "source": [
    "### Part B - Manual chunking"
   ]
  },
  {
   "cell_type": "code",
   "execution_count": 4,
   "id": "e09968f1",
   "metadata": {},
   "outputs": [],
   "source": [
    "# Manually chunk the text files in data dump folder\n",
    "# Add ### before each chunk for parsing\n",
    "# LLM approach can also be used however I have not had much success with it"
   ]
  },
  {
   "cell_type": "markdown",
   "id": "3214c005",
   "metadata": {},
   "source": [
    "### Part C - Prepare data for RAG"
   ]
  },
  {
   "cell_type": "code",
   "execution_count": 6,
   "id": "7dea48cb",
   "metadata": {},
   "outputs": [],
   "source": [
    "# files = os.listdir(os.path.join(os.getcwd(),'chunked_data')) "
   ]
  },
  {
   "cell_type": "code",
   "execution_count": 7,
   "id": "99a9d828",
   "metadata": {},
   "outputs": [],
   "source": [
    "# # Create lists to use in dataframe\n",
    "# df_video_series = []\n",
    "# df_video_name = []\n",
    "# df_video_link = []\n",
    "# df_start_time = []\n",
    "# df_original_text = []"
   ]
  },
  {
   "cell_type": "code",
   "execution_count": 8,
   "id": "903ef2f8",
   "metadata": {},
   "outputs": [
    {
     "name": "stdout",
     "output_type": "stream",
     "text": [
      "FM_Nirmala_Sitharamans_reply_on_Union_Budget_for_202425_30 July 2024\n",
      "LS_Question Hour_Budget Session 2024_01 August 2024\n",
      "LS_Question Hour_Budget Session 2024_02 August 2024\n",
      "LS_Question Hour_Budget Session 2024_05 August 2024\n",
      "LS_Question Hour_Budget Session 2024_06 August 2024\n",
      "LS_Question Hour_Budget Session 2024_07 August 2024\n",
      "LS_Question Hour_Budget Session 2024_08 August 2024\n",
      "LS_Question Hour_Budget Session 2024_09 August 2024\n",
      "LS_Question Hour_Budget Session 2024_22 July 2024\n",
      "LS_Question Hour_Budget Session 2024_25 July 2024\n",
      "LS_Question Hour_Budget Session 2024_26 July 2024\n",
      "LS_Question Hour_Budget Session 2024_29 July 2024\n",
      "LS_Question Hour_Budget Session 2024_30 July 2024\n",
      "LS_Question Hour_Budget Session 2024_31 July 2024\n",
      "Rahul_Gandhi_Discussion_on_Union_Budget_for_202425_29 July 2024\n"
     ]
    }
   ],
   "source": [
    "# # Iterate through each file\n",
    "# for file in files:\n",
    "#     with open(os.path.join(os.getcwd(),'chunked_data',file), 'r', encoding='utf-8') as file:\n",
    "#         file_text = file.read()\n",
    "#     # Get chunks\n",
    "#     chunks = file_text.split('###')\n",
    "#     # Line 1 has meta data \n",
    "#     temp_video_series = chunks[0].split('|')[0].split('\\n')[0].strip()\n",
    "#     temp_video_name = chunks[0].split('|')[0].split('\\n')[1].strip()\n",
    "#     temp_video_link = chunks[0].split('|')[0].split('\\n')[2].strip()\n",
    "#     print(temp_video_name)\n",
    "#     # Transcripts start index 1 onwards\n",
    "#     # Iterate through each chunk\n",
    "#     for chunk in chunks[1:]:\n",
    "#         temp_original_text = ''\n",
    "#         # Split the chunk into lines \n",
    "#         lines = chunk.split('|')\n",
    "#         # Take the start time from the first line only\n",
    "#         # Removing blanks = First record could be a blank\n",
    "#         temp_start_time = [i.strip() for i in lines[0].split('\\n') if i not in ['',' ']][0]\n",
    "#         for line in lines:\n",
    "#             # Remove blanks - Each line has a timestamp and text seperated by a line breaker\n",
    "#             line = [i.strip() for i in line.split('\\n') if i not in ['',' ']]\n",
    "#             # Check for empty lists\n",
    "#             if line:\n",
    "#     #             print(line[1])\n",
    "#                 temp_original_text += line[1] + ' '\n",
    "\n",
    "# #         print(temp_original_text)\n",
    "#         # Add data here for each chunk \n",
    "#         df_video_series.append(temp_video_series)\n",
    "#         df_video_name.append(temp_video_name)\n",
    "#         df_video_link.append(temp_video_link)\n",
    "#         df_start_time.append(temp_start_time)\n",
    "#         df_original_text.append(temp_original_text)\n",
    "    \n",
    "\n",
    "    \n",
    "    \n",
    "\n",
    "    "
   ]
  },
  {
   "cell_type": "code",
   "execution_count": 9,
   "id": "e2c90649",
   "metadata": {},
   "outputs": [],
   "source": [
    "# df = pd.DataFrame({\n",
    "#     'Video Series' : df_video_series,\n",
    "#     'Video Name' : df_video_name,\n",
    "#     'Video Link' : df_video_link,\n",
    "#     'Start Time' : df_start_time,\n",
    "#     'Original Text' : df_original_text\n",
    "# })"
   ]
  },
  {
   "cell_type": "code",
   "execution_count": 10,
   "id": "cdae4422",
   "metadata": {},
   "outputs": [],
   "source": [
    "# # Add another column called RAG text to include video series for better context/searching \n",
    "# df['RAG Text'] = [i + ' | ' + j for i,j in zip(df['Video Series'],df['Original Text'])]"
   ]
  },
  {
   "cell_type": "code",
   "execution_count": 11,
   "id": "34a3001e",
   "metadata": {},
   "outputs": [
    {
     "data": {
      "text/html": [
       "<div>\n",
       "<style scoped>\n",
       "    .dataframe tbody tr th:only-of-type {\n",
       "        vertical-align: middle;\n",
       "    }\n",
       "\n",
       "    .dataframe tbody tr th {\n",
       "        vertical-align: top;\n",
       "    }\n",
       "\n",
       "    .dataframe thead th {\n",
       "        text-align: right;\n",
       "    }\n",
       "</style>\n",
       "<table border=\"1\" class=\"dataframe\">\n",
       "  <thead>\n",
       "    <tr style=\"text-align: right;\">\n",
       "      <th></th>\n",
       "      <th>Video Series</th>\n",
       "      <th>Video Name</th>\n",
       "      <th>Video Link</th>\n",
       "      <th>Start Time</th>\n",
       "      <th>Original Text</th>\n",
       "      <th>RAG Text</th>\n",
       "    </tr>\n",
       "  </thead>\n",
       "  <tbody>\n",
       "    <tr>\n",
       "      <th>0</th>\n",
       "      <td>FM Nirmala Sitharamans Reply On Union Budget</td>\n",
       "      <td>FM_Nirmala_Sitharamans_reply_on_Union_Budget_f...</td>\n",
       "      <td>https://www.youtube.com/watch?v=kYHWCD7FZgQ</td>\n",
       "      <td>2.959</td>\n",
       "      <td>No love, one love, Premchandra ji, please, ple...</td>\n",
       "      <td>FM Nirmala Sitharamans Reply On Union Budget |...</td>\n",
       "    </tr>\n",
       "    <tr>\n",
       "      <th>1</th>\n",
       "      <td>FM Nirmala Sitharamans Reply On Union Budget</td>\n",
       "      <td>FM_Nirmala_Sitharamans_reply_on_Union_Budget_f...</td>\n",
       "      <td>https://www.youtube.com/watch?v=kYHWCD7FZgQ</td>\n",
       "      <td>301.199</td>\n",
       "      <td>With in the a with in the total expenditure si...</td>\n",
       "      <td>FM Nirmala Sitharamans Reply On Union Budget |...</td>\n",
       "    </tr>\n",
       "    <tr>\n",
       "      <th>2</th>\n",
       "      <td>FM Nirmala Sitharamans Reply On Union Budget</td>\n",
       "      <td>FM_Nirmala_Sitharamans_reply_on_Union_Budget_f...</td>\n",
       "      <td>https://www.youtube.com/watch?v=kYHWCD7FZgQ</td>\n",
       "      <td>619.04</td>\n",
       "      <td>What the Budget 2024 25 Tries to bring in a ba...</td>\n",
       "      <td>FM Nirmala Sitharamans Reply On Union Budget |...</td>\n",
       "    </tr>\n",
       "    <tr>\n",
       "      <th>3</th>\n",
       "      <td>FM Nirmala Sitharamans Reply On Union Budget</td>\n",
       "      <td>FM_Nirmala_Sitharamans_reply_on_Union_Budget_f...</td>\n",
       "      <td>https://www.youtube.com/watch?v=kYHWCD7FZgQ</td>\n",
       "      <td>943.399</td>\n",
       "      <td>Sir some members of the general public have ra...</td>\n",
       "      <td>FM Nirmala Sitharamans Reply On Union Budget |...</td>\n",
       "    </tr>\n",
       "    <tr>\n",
       "      <th>4</th>\n",
       "      <td>FM Nirmala Sitharamans Reply On Union Budget</td>\n",
       "      <td>FM_Nirmala_Sitharamans_reply_on_Union_Budget_f...</td>\n",
       "      <td>https://www.youtube.com/watch?v=kYHWCD7FZgQ</td>\n",
       "      <td>1166.24</td>\n",
       "      <td>sir now I come to the general B in which I go ...</td>\n",
       "      <td>FM Nirmala Sitharamans Reply On Union Budget |...</td>\n",
       "    </tr>\n",
       "  </tbody>\n",
       "</table>\n",
       "</div>"
      ],
      "text/plain": [
       "                                   Video Series  \\\n",
       "0  FM Nirmala Sitharamans Reply On Union Budget   \n",
       "1  FM Nirmala Sitharamans Reply On Union Budget   \n",
       "2  FM Nirmala Sitharamans Reply On Union Budget   \n",
       "3  FM Nirmala Sitharamans Reply On Union Budget   \n",
       "4  FM Nirmala Sitharamans Reply On Union Budget   \n",
       "\n",
       "                                          Video Name  \\\n",
       "0  FM_Nirmala_Sitharamans_reply_on_Union_Budget_f...   \n",
       "1  FM_Nirmala_Sitharamans_reply_on_Union_Budget_f...   \n",
       "2  FM_Nirmala_Sitharamans_reply_on_Union_Budget_f...   \n",
       "3  FM_Nirmala_Sitharamans_reply_on_Union_Budget_f...   \n",
       "4  FM_Nirmala_Sitharamans_reply_on_Union_Budget_f...   \n",
       "\n",
       "                                    Video Link Start Time  \\\n",
       "0  https://www.youtube.com/watch?v=kYHWCD7FZgQ      2.959   \n",
       "1  https://www.youtube.com/watch?v=kYHWCD7FZgQ    301.199   \n",
       "2  https://www.youtube.com/watch?v=kYHWCD7FZgQ     619.04   \n",
       "3  https://www.youtube.com/watch?v=kYHWCD7FZgQ    943.399   \n",
       "4  https://www.youtube.com/watch?v=kYHWCD7FZgQ    1166.24   \n",
       "\n",
       "                                       Original Text  \\\n",
       "0  No love, one love, Premchandra ji, please, ple...   \n",
       "1  With in the a with in the total expenditure si...   \n",
       "2  What the Budget 2024 25 Tries to bring in a ba...   \n",
       "3  Sir some members of the general public have ra...   \n",
       "4  sir now I come to the general B in which I go ...   \n",
       "\n",
       "                                            RAG Text  \n",
       "0  FM Nirmala Sitharamans Reply On Union Budget |...  \n",
       "1  FM Nirmala Sitharamans Reply On Union Budget |...  \n",
       "2  FM Nirmala Sitharamans Reply On Union Budget |...  \n",
       "3  FM Nirmala Sitharamans Reply On Union Budget |...  \n",
       "4  FM Nirmala Sitharamans Reply On Union Budget |...  "
      ]
     },
     "execution_count": 11,
     "metadata": {},
     "output_type": "execute_result"
    }
   ],
   "source": [
    "# df.head()"
   ]
  },
  {
   "cell_type": "code",
   "execution_count": 12,
   "id": "3e2f214a",
   "metadata": {},
   "outputs": [],
   "source": [
    "# df.to_excel('prepared_data.xlsx',index=False)"
   ]
  },
  {
   "cell_type": "code",
   "execution_count": null,
   "id": "faae19e3",
   "metadata": {},
   "outputs": [],
   "source": []
  },
  {
   "cell_type": "code",
   "execution_count": null,
   "id": "361cdec1",
   "metadata": {},
   "outputs": [],
   "source": []
  },
  {
   "cell_type": "code",
   "execution_count": null,
   "id": "5e92b1f4",
   "metadata": {},
   "outputs": [],
   "source": []
  }
 ],
 "metadata": {
  "kernelspec": {
   "display_name": "Python 3",
   "language": "python",
   "name": "python3"
  },
  "language_info": {
   "codemirror_mode": {
    "name": "ipython",
    "version": 3
   },
   "file_extension": ".py",
   "mimetype": "text/x-python",
   "name": "python",
   "nbconvert_exporter": "python",
   "pygments_lexer": "ipython3",
   "version": "3.8.8"
  }
 },
 "nbformat": 4,
 "nbformat_minor": 5
}
